{
 "cells": [
  {
   "cell_type": "code",
   "execution_count": 1,
   "id": "dcf7e15f-4b6d-4e0e-99e8-5bf70e936eaf",
   "metadata": {},
   "outputs": [],
   "source": [
    "from pyspark.sql import SparkSession\n",
    "import pyspark.sql.functions as F\n",
    "from pyspark.sql.types import DecimalType\n",
    "\n",
    "# Creating a SparkSession\n",
    "spark = SparkSession.builder.appName(\"MySparkApp\").getOrCreate()"
   ]
  },
  {
   "cell_type": "markdown",
   "id": "ce11255b-5f7f-4d56-8848-6e2a102d3b49",
   "metadata": {},
   "source": [
    "## Read in Data"
   ]
  },
  {
   "cell_type": "code",
   "execution_count": 2,
   "id": "c30b3d88-5446-4260-8d53-d9f5761a8742",
   "metadata": {},
   "outputs": [
    {
     "name": "stdout",
     "output_type": "stream",
     "text": [
      "+---------------+---------+------------------+-------------+--------------+-----------------+--------------------+----------------------+--------------------+----------------------+----+--------+------------+-------------------+---------------------+------------------+--------------------+-----------------+\n",
      "|       route_id|unique_id|service_start_date|update_origin|train_platform|working_time_pass|working_time_arrival|working_time_departure|planned_time_arrival|planned_time_departure|pass|platform|train_length|actual_arrival_time|actual_departure_time|is_delayed_arrival|is_delayed_departure|__index_level_0__|\n",
      "+---------------+---------+------------------+-------------+--------------+-----------------+--------------------+----------------------+--------------------+----------------------+----+--------+------------+-------------------+---------------------+------------------+--------------------+-----------------+\n",
      "|202307277679020|   L79020|        2023-07-27|       Darwin|          STFD|             NULL| 2023-07-27 00:03:00|   2023-07-27 00:03:30|                NULL|                  NULL|NULL|       5|        NULL|2023-07-27 00:53:00|  2023-07-27 00:53:00|              true|                true|                8|\n",
      "|202307277679020|   L79020|        2023-07-27|       Darwin|       SPNY205|             NULL| 2023-07-27 00:07:00|   2023-07-27 00:13:30|                NULL|                  NULL|NULL|    NULL|        NULL|2023-07-27 00:57:00|  2023-07-27 00:58:00|              true|                true|               10|\n",
      "|202307277679020|   L79020|        2023-07-27|       Darwin|        PADTLL|             NULL| 2023-07-27 00:30:30|   2023-07-27 00:31:00|                NULL|                  NULL|NULL|       B|        NULL|2023-07-27 01:07:00|  2023-07-27 01:07:00|              true|                true|               16|\n",
      "|202307277679020|   L79020|        2023-07-27|       Darwin|       WBRNPKS|             NULL| 2023-07-27 00:33:00|   2023-07-27 00:35:00|                NULL|                  NULL|NULL|       A|        NULL|2023-07-27 01:09:00|  2023-07-27 01:10:00|              true|                true|               17|\n",
      "|202307277674553|   L74553|        2023-07-27|           TD|       SVNOAKS|             NULL| 2023-07-27 21:53:00|   2023-07-27 21:54:30| 2023-07-27 21:53:00|   2023-07-27 21:54:00|NULL|       1|           8|               NULL|                 NULL|             false|               false|               22|\n",
      "+---------------+---------+------------------+-------------+--------------+-----------------+--------------------+----------------------+--------------------+----------------------+----+--------+------------+-------------------+---------------------+------------------+--------------------+-----------------+\n",
      "\n"
     ]
    }
   ],
   "source": [
    "# read in data\n",
    "df = spark.read.parquet('rail_data_cleaned_20230728132300.parquet')\n",
    "df.limit(5).show()"
   ]
  },
  {
   "cell_type": "code",
   "execution_count": 3,
   "id": "289ce475-5521-4abc-895d-c2518c489555",
   "metadata": {},
   "outputs": [
    {
     "name": "stdout",
     "output_type": "stream",
     "text": [
      "root\n",
      " |-- route_id: string (nullable = true)\n",
      " |-- unique_id: string (nullable = true)\n",
      " |-- service_start_date: string (nullable = true)\n",
      " |-- update_origin: string (nullable = true)\n",
      " |-- train_platform: string (nullable = true)\n",
      " |-- working_time_pass: timestamp_ntz (nullable = true)\n",
      " |-- working_time_arrival: timestamp_ntz (nullable = true)\n",
      " |-- working_time_departure: timestamp_ntz (nullable = true)\n",
      " |-- planned_time_arrival: timestamp_ntz (nullable = true)\n",
      " |-- planned_time_departure: timestamp_ntz (nullable = true)\n",
      " |-- pass: integer (nullable = true)\n",
      " |-- platform: string (nullable = true)\n",
      " |-- train_length: string (nullable = true)\n",
      " |-- actual_arrival_time: timestamp_ntz (nullable = true)\n",
      " |-- actual_departure_time: timestamp_ntz (nullable = true)\n",
      " |-- is_delayed_arrival: boolean (nullable = true)\n",
      " |-- is_delayed_departure: boolean (nullable = true)\n",
      " |-- __index_level_0__: long (nullable = true)\n",
      "\n"
     ]
    }
   ],
   "source": [
    "# print rows with respective datatypes\n",
    "df.printSchema()"
   ]
  },
  {
   "cell_type": "markdown",
   "id": "0f07edaf-0712-4512-9599-c7266fdb1ff0",
   "metadata": {},
   "source": [
    "## Check for Duplicate Values/ Nulls"
   ]
  },
  {
   "cell_type": "code",
   "execution_count": 4,
   "id": "85e23d76-3034-48fc-b86c-107b2eb1b117",
   "metadata": {},
   "outputs": [
    {
     "name": "stdout",
     "output_type": "stream",
     "text": [
      "+----------+\n",
      "|sum(count)|\n",
      "+----------+\n",
      "|      NULL|\n",
      "+----------+\n",
      "\n"
     ]
    }
   ],
   "source": [
    "# find duplicate rows\n",
    "df.groupBy(df.columns)\\\n",
    "    .count()\\\n",
    "    .where(F.col('count') > 1)\\\n",
    "    .select(F.sum('count'))\\\n",
    "    .show()"
   ]
  },
  {
   "cell_type": "code",
   "execution_count": 5,
   "id": "304982c4-aa35-433a-9893-9d2f3a38f337",
   "metadata": {},
   "outputs": [
    {
     "data": {
      "text/plain": [
       "{'route_id': 0,\n",
       " 'unique_id': 0,\n",
       " 'service_start_date': 0,\n",
       " 'update_origin': 585,\n",
       " 'train_platform': 0,\n",
       " 'working_time_pass': 37100,\n",
       " 'working_time_arrival': 0,\n",
       " 'working_time_departure': 0,\n",
       " 'planned_time_arrival': 3245,\n",
       " 'planned_time_departure': 3520,\n",
       " 'pass': 37100,\n",
       " 'platform': 2986,\n",
       " 'train_length': 26505,\n",
       " 'actual_arrival_time': 5331,\n",
       " 'actual_departure_time': 2716,\n",
       " 'is_delayed_arrival': 0,\n",
       " 'is_delayed_departure': 0,\n",
       " '__index_level_0__': 0}"
      ]
     },
     "execution_count": 5,
     "metadata": {},
     "output_type": "execute_result"
    }
   ],
   "source": [
    "# get a null count for all columns\n",
    "Dict_Null = {col:df.filter(df[col].isNull()).count() for col in df.columns}\n",
    "Dict_Null"
   ]
  },
  {
   "cell_type": "code",
   "execution_count": 6,
   "id": "4e0ff85d-453f-4804-996d-d8bd05f18070",
   "metadata": {},
   "outputs": [
    {
     "data": {
      "text/plain": [
       "DataFrame[route_id: string, unique_id: string, service_start_date: string, update_origin: string, train_platform: string, working_time_pass: timestamp_ntz, working_time_arrival: timestamp_ntz, working_time_departure: timestamp_ntz, planned_time_arrival: timestamp_ntz, planned_time_departure: timestamp_ntz, pass: int, platform: string, actual_arrival_time: timestamp_ntz, actual_departure_time: timestamp_ntz, is_delayed_arrival: boolean, is_delayed_departure: boolean, __index_level_0__: bigint]"
      ]
     },
     "execution_count": 6,
     "metadata": {},
     "output_type": "execute_result"
    }
   ],
   "source": [
    "# remove cols with too many null values\n",
    "df.drop('working_time_pass')\n",
    "df.drop('pass')\n",
    "df.drop('train_length')"
   ]
  },
  {
   "cell_type": "code",
   "execution_count": 7,
   "id": "b0ff3ba0-1590-4361-861e-2bace70751c4",
   "metadata": {},
   "outputs": [
    {
     "data": {
      "text/plain": [
       "33004"
      ]
     },
     "execution_count": 7,
     "metadata": {},
     "output_type": "execute_result"
    }
   ],
   "source": [
    "# drop rows with null values from the dataset\n",
    "df = df.dropna(subset='planned_time_departure')\n",
    "df = df.dropna(subset='update_origin')\n",
    "df.count()"
   ]
  },
  {
   "cell_type": "code",
   "execution_count": 8,
   "id": "9b1bc847-2ac0-4ba5-9bd1-421dc42998f0",
   "metadata": {
    "scrolled": true
   },
   "outputs": [
    {
     "name": "stdout",
     "output_type": "stream",
     "text": [
      "Unique values in route_id:\n",
      "+---------------+-----+\n",
      "|       route_id|count|\n",
      "+---------------+-----+\n",
      "|202307278024592|   40|\n",
      "|202307278023407|    2|\n",
      "|202307287142024|    8|\n",
      "|202307277684886|    4|\n",
      "|202307277623421|    3|\n",
      "|202307277159156|    1|\n",
      "|202307278931917|    2|\n",
      "|202307278932995|   10|\n",
      "|202307277679446|    4|\n",
      "|202307288076176|    8|\n",
      "|202307288075928|   36|\n",
      "|202307278027471|    5|\n",
      "|202307287195442|    1|\n",
      "|202307278070469|    5|\n",
      "|202307277683900|    1|\n",
      "|202307278929733|    1|\n",
      "|202307277683740|    2|\n",
      "|202307287159171|    1|\n",
      "|202307277194734|    1|\n",
      "|202307277674757|    1|\n",
      "+---------------+-----+\n",
      "only showing top 20 rows\n",
      "\n",
      "Unique values in unique_id:\n",
      "+---------+-----+\n",
      "|unique_id|count|\n",
      "+---------+-----+\n",
      "|   L79822|   11|\n",
      "|   G59266|    1|\n",
      "|   P25443|    2|\n",
      "|   P24503|    9|\n",
      "|   C18264|   31|\n",
      "|   C16587|    1|\n",
      "|   P71715|    3|\n",
      "|   L34352|    2|\n",
      "|   L23434|    4|\n",
      "|   G95492|   10|\n",
      "|   L23565|    1|\n",
      "|   Y31409|   21|\n",
      "|   Y30069|    1|\n",
      "|   P27235|    5|\n",
      "|   G67331|    1|\n",
      "|   Y55093|    1|\n",
      "|   P75426|    3|\n",
      "|   G81189|    1|\n",
      "|   G70054|    1|\n",
      "|   P76316|    4|\n",
      "+---------+-----+\n",
      "only showing top 20 rows\n",
      "\n",
      "Unique values in service_start_date:\n",
      "+------------------+-----+\n",
      "|service_start_date|count|\n",
      "+------------------+-----+\n",
      "|        2023-07-27|17962|\n",
      "|        2023-07-29|   56|\n",
      "|        2023-07-28|14986|\n",
      "+------------------+-----+\n",
      "\n",
      "Unique values in update_origin:\n",
      "+-------------+-----+\n",
      "|update_origin|count|\n",
      "+-------------+-----+\n",
      "|           TD|10059|\n",
      "|        Trust| 2052|\n",
      "|       Darwin| 6547|\n",
      "|  Workstation|   28|\n",
      "|       Tyrell|  283|\n",
      "|          CIS|14035|\n",
      "+-------------+-----+\n",
      "\n",
      "Unique values in train_platform:\n",
      "+--------------+-----+\n",
      "|train_platform|count|\n",
      "+--------------+-----+\n",
      "|       MRYLAND|   37|\n",
      "|       MINFORD|    5|\n",
      "|       SHENFLD|   37|\n",
      "|       BRITHDR|    3|\n",
      "|       HATHRSG|   10|\n",
      "|       HEATHHL|    7|\n",
      "|       TURKYST|   10|\n",
      "|       CLFDOWN|    5|\n",
      "|       RIDNGML|    3|\n",
      "|       HOLTONH|    4|\n",
      "|       NNRYSQU|    1|\n",
      "|       WODBDGE|    2|\n",
      "|          ELTR|   31|\n",
      "|          GTHM|   28|\n",
      "|       MCHYNLT|   12|\n",
      "|          DLTN|   22|\n",
      "|          SABR|   15|\n",
      "|       MEOLSCP|    2|\n",
      "|       SELLING|    4|\n",
      "|       STNEOTS|   18|\n",
      "+--------------+-----+\n",
      "only showing top 20 rows\n",
      "\n",
      "Unique values in platform:\n",
      "+--------+-----+\n",
      "|platform|count|\n",
      "+--------+-----+\n",
      "|      1L|    3|\n",
      "|       7|  203|\n",
      "|      1A|    7|\n",
      "|      15|   27|\n",
      "|     12A|    3|\n",
      "|      11|   67|\n",
      "|     10A|    7|\n",
      "|       3| 2756|\n",
      "|     16A|    2|\n",
      "|     16B|    1|\n",
      "|     FAL|    1|\n",
      "|     BUS|   33|\n",
      "|      8D|    3|\n",
      "|      1C|    2|\n",
      "|       8|  308|\n",
      "|      3B|   28|\n",
      "|      4B|   18|\n",
      "|      7A|    6|\n",
      "|      16|   29|\n",
      "|     15B|    3|\n",
      "+--------+-----+\n",
      "only showing top 20 rows\n",
      "\n",
      "Unique values in train_length:\n",
      "+------------+-----+\n",
      "|train_length|count|\n",
      "+------------+-----+\n",
      "|           7|   45|\n",
      "|          11|    6|\n",
      "|           3|  788|\n",
      "|           8| 2629|\n",
      "|        NULL|23403|\n",
      "|           5| 1833|\n",
      "|           6|  471|\n",
      "|           9|    5|\n",
      "|          10| 1069|\n",
      "|           4| 1376|\n",
      "|          12|  955|\n",
      "|           2|  424|\n",
      "+------------+-----+\n",
      "\n"
     ]
    }
   ],
   "source": [
    "# pyspark value_counts\n",
    "# get list of categorical var cols\n",
    "categorical_columns = [c for c in df.columns if df.select(c).dtypes[0][1] == 'string']\n",
    "\n",
    "# do a value counts for each categorical var\n",
    "for col_name in categorical_columns:\n",
    "    print(f\"Unique values in {col_name}:\")\n",
    "    df.groupBy(col_name).count().show()"
   ]
  },
  {
   "cell_type": "markdown",
   "id": "0720d9b8-0faa-4fbb-ae50-be7235039311",
   "metadata": {},
   "source": [
    "## Merge Data with Rail References"
   ]
  },
  {
   "cell_type": "code",
   "execution_count": 9,
   "id": "2d84d75d-83ac-4d14-98c6-42b40f221a64",
   "metadata": {},
   "outputs": [
    {
     "name": "stdout",
     "output_type": "stream",
     "text": [
      "root\n",
      " |-- AtcoCode: string (nullable = true)\n",
      " |-- TiplocCode: string (nullable = true)\n",
      " |-- CrsCode: string (nullable = true)\n",
      " |-- StationName: string (nullable = true)\n",
      " |-- StationNameLang: string (nullable = true)\n",
      " |-- GridType: string (nullable = true)\n",
      " |-- Easting: integer (nullable = true)\n",
      " |-- Northing: integer (nullable = true)\n",
      " |-- CreationDateTime: timestamp (nullable = true)\n",
      " |-- ModificationDateTime: timestamp (nullable = true)\n",
      " |-- RevisionNumber: integer (nullable = true)\n",
      " |-- Modification: string (nullable = true)\n",
      "\n"
     ]
    }
   ],
   "source": [
    "# import rail references and merge with api data\n",
    "rail_ref = spark.read.csv('RailReferences.csv', header=True, inferSchema=True)\n",
    "rail_ref.printSchema()"
   ]
  },
  {
   "cell_type": "code",
   "execution_count": 10,
   "id": "cc2816f7-8226-4780-9529-58856d171922",
   "metadata": {},
   "outputs": [
    {
     "data": {
      "text/plain": [
       "33004"
      ]
     },
     "execution_count": 10,
     "metadata": {},
     "output_type": "execute_result"
    }
   ],
   "source": [
    "# Merge both dfs for Station Name\n",
    "merged_df = df.join(rail_ref, df['train_platform'] == rail_ref['TiplocCode'], how='left')\n",
    "merged_df.count()"
   ]
  },
  {
   "cell_type": "markdown",
   "id": "b11e8259-fab8-4d80-bc73-b2d4eb7af751",
   "metadata": {},
   "source": [
    "## Creating New Cols"
   ]
  },
  {
   "cell_type": "code",
   "execution_count": 11,
   "id": "a5563328-98a5-4099-ab8e-2f2bb5b1fd88",
   "metadata": {},
   "outputs": [
    {
     "name": "stdout",
     "output_type": "stream",
     "text": [
      "+-----------------------+\n",
      "|arrival_time_delayed_by|\n",
      "+-----------------------+\n",
      "|                  149.0|\n",
      "|                  148.0|\n",
      "|                  148.0|\n",
      "|                  148.0|\n",
      "|                  148.0|\n",
      "|                  113.0|\n",
      "|                  113.0|\n",
      "|                  113.0|\n",
      "|                  113.0|\n",
      "|                  113.0|\n",
      "|                  113.0|\n",
      "|                  112.0|\n",
      "|                  112.0|\n",
      "|                  111.0|\n",
      "|                  111.0|\n",
      "|                  100.0|\n",
      "|                  100.0|\n",
      "|                  100.0|\n",
      "|                   99.0|\n",
      "|                   99.0|\n",
      "+-----------------------+\n",
      "only showing top 20 rows\n",
      "\n"
     ]
    }
   ],
   "source": [
    "# create separate cols for date, time, hour\n",
    "from pyspark.sql.functions import *\n",
    "import datetime\n",
    "\n",
    "#planned arrival\n",
    "merged_df = merged_df.withColumn('planned_arrival_date', to_date(F.col('planned_time_arrival'), 'YYYY-mm-dd'))\n",
    "merged_df = merged_df.withColumn('planned_arrival_hour', hour(F.col('planned_time_arrival')))\n",
    "\n",
    "# planned departure\n",
    "merged_df = merged_df.withColumn('planned_dep_date', to_date(F.col('planned_time_departure'), 'YYYY-mm-dd'))\n",
    "merged_df = merged_df.withColumn('planned_dep_hour', hour(F.col('planned_time_departure')))\n",
    "\n",
    "# actual arrival\n",
    "merged_df = merged_df.withColumn('actual_arrival_date', to_date(F.col('actual_arrival_time'), 'YYYY-mm-dd'))\n",
    "merged_df = merged_df.withColumn('actual_arrival_hour', hour(F.col('actual_arrival_time')))\n",
    "\n",
    "# actual departure\n",
    "merged_df = merged_df.withColumn('actual_dep_date', to_date(F.col('actual_departure_time'), 'YYYY-mm-dd'))\n",
    "merged_df = merged_df.withColumn('actual_dep_hour', hour(F.col('actual_departure_time')))\n",
    "\n",
    "# difference between planned and actual arrival time in minutes\n",
    "merged_df = merged_df.withColumn('arrival_time_delayed_by', (unix_timestamp(\"actual_arrival_time\") - unix_timestamp('planned_time_arrival'))/60)\n",
    "merged_df = merged_df.withColumn('dep_time_delayed_by', (unix_timestamp(\"actual_departure_time\") - unix_timestamp('planned_time_departure'))/60)\n",
    "\n",
    "# create weekday var\n",
    "merged_df = merged_df.withColumn('day_of_week', date_format(F.col('actual_dep_date'), 'EEEE'))\n",
    "\n",
    "\n",
    "merged_df.select(F.col('arrival_time_delayed_by')).filter(F.col('arrival_time_delayed_by') > 0).orderBy('arrival_time_delayed_by', ascending=False).show()"
   ]
  },
  {
   "cell_type": "markdown",
   "id": "97bdba3f-b22f-4453-b963-bd4952abf673",
   "metadata": {},
   "source": [
    "## Describe/ Explore Data"
   ]
  },
  {
   "cell_type": "code",
   "execution_count": 12,
   "id": "3ddc1e33-8aba-4fad-a266-91ae68e57270",
   "metadata": {},
   "outputs": [],
   "source": [
    "# Suggestions\n",
    "# Merge the Station Rail Name Reference Table with the API data in order to provide more readable station names.\n",
    "# How would you determine the top 10 most frequently visited stations in a day?\n",
    "# What information can be explored to understand train delays?\n",
    "# Are certain stations busier than others at certain times?"
   ]
  },
  {
   "cell_type": "markdown",
   "id": "b4e28ccb-9721-498b-a33c-3a7b3af81fbf",
   "metadata": {},
   "source": [
    "## Data Dict\n",
    "- route_id: The unique identifier for each train route.\n",
    "- unique_id: The unique identifier for each train\n",
    "- service_start_date: The date when the train service for the particular route started.\n",
    "- update_origin: Source or system from which the data was updated or retrieved.\n",
    "- train_platform: The short name for a station where the train arrives and departs.\n",
    "- working_time_pass: The planned or scheduled time for the train to pass a certain point or station.\n",
    "- working_time_arrival: The planned or scheduled time for the train to arrive at a station.\n",
    "- working_time_departure: The planned or scheduled time for the train to depart from a station.\n",
    "- planned_time_arrival: The officially planned time for the train to arrive at a station. This could be the public-facing scheduled time.\n",
    "- planned_time_departure: The officially planned time for the train to depart from a station. This could be the public-facing scheduled time.\n",
    "- platform: The platform number at the station where the train arrives and departs.\n",
    "- train_length: The physical length of the train. Number of cars.\n",
    "- actual_arrival_time: The actual time when the train arrived at a station.\n",
    "- actual_departure_time: The actual time when the train departed from a station.\n",
    "- is_delayed_arrival: A boolean flag indicating whether the train arrived late\n",
    "- is_delayed_departure: A boolean flag indicating whether the train departed late from a station."
   ]
  },
  {
   "cell_type": "code",
   "execution_count": 13,
   "id": "d8fd3597-3954-4bcb-a5f7-4b5217f67e32",
   "metadata": {},
   "outputs": [],
   "source": [
    "# compare planned arrival/ departure with actual\n",
    "# comapre average delay\n",
    "# delays by station, count is delayed\n",
    "# look at timestamps for busiest stations\n",
    "# look at delays during night vs morning\n",
    "# col subtracting planned vs actual"
   ]
  },
  {
   "cell_type": "code",
   "execution_count": 14,
   "id": "dcd3290d-e8de-4599-9b32-057efc5b6ff5",
   "metadata": {},
   "outputs": [
    {
     "name": "stdout",
     "output_type": "stream",
     "text": [
      "+--------------------+---------+----------------------+----------------+-------------+-------------------+-------------------------+---------------------+------------------------+--------------------+----------------------------+------------------------+\n",
      "|         StationName|avg(pass)|avg(__index_level_0__)|    avg(Easting)|avg(Northing)|avg(RevisionNumber)|avg(planned_arrival_hour)|avg(planned_dep_hour)|avg(actual_arrival_hour)|avg(actual_dep_hour)|avg(arrival_time_delayed_by)|avg(dep_time_delayed_by)|\n",
      "+--------------------+---------+----------------------+----------------+-------------+-------------------+-------------------------+---------------------+------------------------+--------------------+----------------------------+------------------------+\n",
      "|Basingstoke Rail ...|     NULL|     47780.73333333333|        463774.0|     152529.0|                2.0|       18.466666666666665|   18.466666666666665|      18.185185185185187|  18.357142857142858|                         2.0|      1.8928571428571428|\n",
      "|Lea Bridge Rail S...|     NULL|              25004.75|        536176.0|     187123.0|                1.0|       18.083333333333332|   18.083333333333332|       17.22222222222222|                17.6|                         0.0|                     0.0|\n",
      "|Birkenhead Centra...|     NULL|              44661.65|        332205.0|     388427.0|                3.0|                     19.2|                19.25|      18.705882352941178|               19.25|         0.29411764705882354|                    0.55|\n",
      "|Wimbledon Rail St...|     NULL|     43079.27472527473|524810.934065934|     170666.0|  2.065934065934066|       16.560439560439562|   16.560439560439562|      15.697368421052632|  16.290697674418606|        -0.13157894736842105|       0.313953488372093|\n",
      "|Manchester Oxford...|     NULL|              48600.25|        384035.0|     397505.0|                2.0|                     13.5|   13.520833333333334|      13.045454545454545|  13.520833333333334|          0.5454545454545454|                  0.5625|\n",
      "+--------------------+---------+----------------------+----------------+-------------+-------------------+-------------------------+---------------------+------------------------+--------------------+----------------------------+------------------------+\n",
      "\n"
     ]
    }
   ],
   "source": [
    "merged_df.groupBy('StationName').mean().limit(5).show()"
   ]
  },
  {
   "cell_type": "code",
   "execution_count": 15,
   "id": "3790fbf1-f178-4ebe-a47c-a2f57f1b5396",
   "metadata": {},
   "outputs": [
    {
     "name": "stdout",
     "output_type": "stream",
     "text": [
      "+---------------+---------+--------------------+------------------+--------------------+\n",
      "|       route_id|unique_id|         StationName|is_delayed_arrival|is_delayed_departure|\n",
      "+---------------+---------+--------------------+------------------+--------------------+\n",
      "|202307277674553|   L74553|Sevenoaks Rail St...|             false|               false|\n",
      "|202307277679633|   L79633|Stratford (London...|             false|               false|\n",
      "|202307277679633|   L79633|Maryland Rail Sta...|             false|               false|\n",
      "|202307277679633|   L79633|Forest Gate Rail ...|             false|               false|\n",
      "|202307277679633|   L79633|Manor Park Rail S...|             false|               false|\n",
      "+---------------+---------+--------------------+------------------+--------------------+\n",
      "\n"
     ]
    }
   ],
   "source": [
    "# create new df with route_id, unique_id, StationName, isDelayed\n",
    "delayed_df = merged_df[['route_id', 'unique_id', 'StationName', 'is_delayed_arrival', 'is_delayed_departure']]\n",
    "delayed_df.limit(5).show()"
   ]
  },
  {
   "cell_type": "markdown",
   "id": "4ee0b7f6-5c82-4b50-8d7c-94db20635d07",
   "metadata": {},
   "source": [
    "### Station with most delays"
   ]
  },
  {
   "cell_type": "code",
   "execution_count": 16,
   "id": "427e816a-df1b-40c7-bca8-91d87f23c929",
   "metadata": {},
   "outputs": [
    {
     "name": "stdout",
     "output_type": "stream",
     "text": [
      "+--------------------+------------------+-----+\n",
      "|         StationName|is_delayed_arrival|count|\n",
      "+--------------------+------------------+-----+\n",
      "|Reading Rail Station|              true|   15|\n",
      "|Rochdale Rail Sta...|              true|    8|\n",
      "|Todmorden Rail St...|              true|    8|\n",
      "|Halifax Rail Station|              true|    8|\n",
      "|Swindon Rail Station|              true|    8|\n",
      "|                NULL|              true|    7|\n",
      "|Hebden Bridge Rai...|              true|    7|\n",
      "|Newton Abbot Rail...|              true|    7|\n",
      "|Brockenhurst Rail...|              true|    7|\n",
      "| Totnes Rail Station|              true|    7|\n",
      "|Taunton Rail Station|              true|    7|\n",
      "|Southampton Airpo...|              true|    6|\n",
      "|Winchester Rail S...|              true|    6|\n",
      "|Exeter St Davids ...|              true|    6|\n",
      "|Bournemouth Rail ...|              true|    6|\n",
      "|Didcot Parkway Ra...|              true|    6|\n",
      "|Tiverton Parkway ...|              true|    6|\n",
      "| Havant Rail Station|              true|    6|\n",
      "|Portsmouth & Sout...|              true|    5|\n",
      "|Parkstone (Dorset...|              true|    5|\n",
      "+--------------------+------------------+-----+\n",
      "only showing top 20 rows\n",
      "\n",
      "+--------------------+--------------------+-----+\n",
      "|         StationName|is_delayed_departure|count|\n",
      "+--------------------+--------------------+-----+\n",
      "|Reading Rail Station|                true|   15|\n",
      "|Exeter St Davids ...|                true|    9|\n",
      "|Rochdale Rail Sta...|                true|    8|\n",
      "|Todmorden Rail St...|                true|    8|\n",
      "|Halifax Rail Station|                true|    8|\n",
      "|Swindon Rail Station|                true|    8|\n",
      "|                NULL|                true|    7|\n",
      "|Bournemouth Rail ...|                true|    7|\n",
      "|Bradford Intercha...|                true|    7|\n",
      "|Hebden Bridge Rai...|                true|    7|\n",
      "|Newton Abbot Rail...|                true|    7|\n",
      "|Brockenhurst Rail...|                true|    7|\n",
      "| Totnes Rail Station|                true|    7|\n",
      "|Taunton Rail Station|                true|    7|\n",
      "|Southampton Airpo...|                true|    6|\n",
      "|Winchester Rail S...|                true|    6|\n",
      "|Didcot Parkway Ra...|                true|    6|\n",
      "|Tiverton Parkway ...|                true|    6|\n",
      "| Havant Rail Station|                true|    6|\n",
      "|Southampton Centr...|                true|    5|\n",
      "+--------------------+--------------------+-----+\n",
      "only showing top 20 rows\n",
      "\n"
     ]
    }
   ],
   "source": [
    "delayed_df.filter(F.col('is_delayed_arrival') == True).groupBy('StationName', 'is_delayed_arrival').count().orderBy('count', ascending=False).show()\n",
    "delayed_df.filter(F.col('is_delayed_departure') == True).groupBy('StationName', 'is_delayed_departure').count().orderBy('count', ascending=False).show()"
   ]
  },
  {
   "cell_type": "code",
   "execution_count": 17,
   "id": "921d2c83-0c50-4e74-b981-42470c1596a7",
   "metadata": {},
   "outputs": [],
   "source": [
    "# find station with the greatest time delays"
   ]
  },
  {
   "cell_type": "code",
   "execution_count": 18,
   "id": "9cf036c6-dc27-4574-b2ed-893e505bef39",
   "metadata": {},
   "outputs": [],
   "source": [
    "# convert to pandas for additional exploration and visualization\n",
    "pandas_df = merged_df.toPandas()"
   ]
  },
  {
   "cell_type": "code",
   "execution_count": 19,
   "id": "f825520c-4d72-4f3f-97bf-ac88e3815554",
   "metadata": {},
   "outputs": [],
   "source": [
    "pandas_df['StationName'] = pandas_df['StationName'].fillna(pandas_df['train_platform'])"
   ]
  },
  {
   "cell_type": "code",
   "execution_count": 20,
   "id": "1a812d97-d4c2-40d2-bf08-328fb8c1cf76",
   "metadata": {},
   "outputs": [
    {
     "data": {
      "text/html": [
       "<div>\n",
       "<style scoped>\n",
       "    .dataframe tbody tr th:only-of-type {\n",
       "        vertical-align: middle;\n",
       "    }\n",
       "\n",
       "    .dataframe tbody tr th {\n",
       "        vertical-align: top;\n",
       "    }\n",
       "\n",
       "    .dataframe thead th {\n",
       "        text-align: right;\n",
       "    }\n",
       "</style>\n",
       "<table border=\"1\" class=\"dataframe\">\n",
       "  <thead>\n",
       "    <tr style=\"text-align: right;\">\n",
       "      <th></th>\n",
       "      <th>StationName</th>\n",
       "      <th>dep_time_delayed_by</th>\n",
       "    </tr>\n",
       "  </thead>\n",
       "  <tbody>\n",
       "    <tr>\n",
       "      <th>1648</th>\n",
       "      <td>Reading Rail Station</td>\n",
       "      <td>961.0</td>\n",
       "    </tr>\n",
       "    <tr>\n",
       "      <th>1595</th>\n",
       "      <td>Port Talbot Parkway Rail Station</td>\n",
       "      <td>554.0</td>\n",
       "    </tr>\n",
       "    <tr>\n",
       "      <th>731</th>\n",
       "      <td>Exeter St Davids Rail Station</td>\n",
       "      <td>524.0</td>\n",
       "    </tr>\n",
       "    <tr>\n",
       "      <th>1419</th>\n",
       "      <td>Neath Rail Station</td>\n",
       "      <td>502.0</td>\n",
       "    </tr>\n",
       "    <tr>\n",
       "      <th>2008</th>\n",
       "      <td>Totnes Rail Station</td>\n",
       "      <td>481.0</td>\n",
       "    </tr>\n",
       "    <tr>\n",
       "      <th>...</th>\n",
       "      <td>...</td>\n",
       "      <td>...</td>\n",
       "    </tr>\n",
       "    <tr>\n",
       "      <th>285</th>\n",
       "      <td>Bridgend Rail Station</td>\n",
       "      <td>-5260.0</td>\n",
       "    </tr>\n",
       "    <tr>\n",
       "      <th>1625</th>\n",
       "      <td>Pyle Rail Station</td>\n",
       "      <td>-5604.0</td>\n",
       "    </tr>\n",
       "    <tr>\n",
       "      <th>1243</th>\n",
       "      <td>Llanharan Rail Station</td>\n",
       "      <td>-5606.0</td>\n",
       "    </tr>\n",
       "    <tr>\n",
       "      <th>1541</th>\n",
       "      <td>Pencoed Rail Station</td>\n",
       "      <td>-5610.0</td>\n",
       "    </tr>\n",
       "    <tr>\n",
       "      <th>666</th>\n",
       "      <td>Earlestown Rail Station</td>\n",
       "      <td>-5684.0</td>\n",
       "    </tr>\n",
       "  </tbody>\n",
       "</table>\n",
       "<p>2258 rows × 2 columns</p>\n",
       "</div>"
      ],
      "text/plain": [
       "                           StationName  dep_time_delayed_by\n",
       "1648              Reading Rail Station                961.0\n",
       "1595  Port Talbot Parkway Rail Station                554.0\n",
       "731      Exeter St Davids Rail Station                524.0\n",
       "1419                Neath Rail Station                502.0\n",
       "2008               Totnes Rail Station                481.0\n",
       "...                                ...                  ...\n",
       "285              Bridgend Rail Station              -5260.0\n",
       "1625                 Pyle Rail Station              -5604.0\n",
       "1243            Llanharan Rail Station              -5606.0\n",
       "1541              Pencoed Rail Station              -5610.0\n",
       "666            Earlestown Rail Station              -5684.0\n",
       "\n",
       "[2258 rows x 2 columns]"
      ]
     },
     "execution_count": 20,
     "metadata": {},
     "output_type": "execute_result"
    }
   ],
   "source": [
    "result =pandas_df.groupby('StationName')['dep_time_delayed_by'].sum().reset_index()\n",
    "result = result.sort_values(by='dep_time_delayed_by', ascending=False)\n",
    "result"
   ]
  },
  {
   "cell_type": "markdown",
   "id": "22b5c01a-061a-4e01-80e2-c4e42afcd02b",
   "metadata": {},
   "source": [
    "## Questions:\n",
    "- Which train stations have the most delays?\n",
    "- Which has the longest delays?\n",
    "- Are delays more frequent at certain times of the day?\n",
    "- Total frequency of delays\n",
    "- Correlation between delays and train length?"
   ]
  },
  {
   "cell_type": "code",
   "execution_count": 21,
   "id": "3b96af26-f508-4ea3-a210-8f81f2341882",
   "metadata": {},
   "outputs": [
    {
     "data": {
      "text/html": [
       "<div>\n",
       "<style scoped>\n",
       "    .dataframe tbody tr th:only-of-type {\n",
       "        vertical-align: middle;\n",
       "    }\n",
       "\n",
       "    .dataframe tbody tr th {\n",
       "        vertical-align: top;\n",
       "    }\n",
       "\n",
       "    .dataframe thead th {\n",
       "        text-align: right;\n",
       "    }\n",
       "</style>\n",
       "<table border=\"1\" class=\"dataframe\">\n",
       "  <thead>\n",
       "    <tr style=\"text-align: right;\">\n",
       "      <th></th>\n",
       "      <th>StationName</th>\n",
       "      <th>is_delayed_departure</th>\n",
       "    </tr>\n",
       "  </thead>\n",
       "  <tbody>\n",
       "    <tr>\n",
       "      <th>226</th>\n",
       "      <td>Reading Rail Station</td>\n",
       "      <td>15</td>\n",
       "    </tr>\n",
       "    <tr>\n",
       "      <th>104</th>\n",
       "      <td>Exeter St Davids Rail Station</td>\n",
       "      <td>9</td>\n",
       "    </tr>\n",
       "    <tr>\n",
       "      <th>229</th>\n",
       "      <td>Rochdale Rail Station</td>\n",
       "      <td>8</td>\n",
       "    </tr>\n",
       "    <tr>\n",
       "      <th>280</th>\n",
       "      <td>Todmorden Rail Station</td>\n",
       "      <td>8</td>\n",
       "    </tr>\n",
       "    <tr>\n",
       "      <th>122</th>\n",
       "      <td>Halifax Rail Station</td>\n",
       "      <td>8</td>\n",
       "    </tr>\n",
       "    <tr>\n",
       "      <th>...</th>\n",
       "      <td>...</td>\n",
       "      <td>...</td>\n",
       "    </tr>\n",
       "    <tr>\n",
       "      <th>139</th>\n",
       "      <td>Honiton Rail Station</td>\n",
       "      <td>1</td>\n",
       "    </tr>\n",
       "    <tr>\n",
       "      <th>140</th>\n",
       "      <td>Honley Rail Station</td>\n",
       "      <td>1</td>\n",
       "    </tr>\n",
       "    <tr>\n",
       "      <th>141</th>\n",
       "      <td>Huddersfield Rail Station</td>\n",
       "      <td>1</td>\n",
       "    </tr>\n",
       "    <tr>\n",
       "      <th>143</th>\n",
       "      <td>Hurst Green Rail Station</td>\n",
       "      <td>1</td>\n",
       "    </tr>\n",
       "    <tr>\n",
       "      <th>317</th>\n",
       "      <td>Yeovil Junction Rail Station</td>\n",
       "      <td>1</td>\n",
       "    </tr>\n",
       "  </tbody>\n",
       "</table>\n",
       "<p>318 rows × 2 columns</p>\n",
       "</div>"
      ],
      "text/plain": [
       "                       StationName  is_delayed_departure\n",
       "226           Reading Rail Station                    15\n",
       "104  Exeter St Davids Rail Station                     9\n",
       "229          Rochdale Rail Station                     8\n",
       "280         Todmorden Rail Station                     8\n",
       "122           Halifax Rail Station                     8\n",
       "..                             ...                   ...\n",
       "139           Honiton Rail Station                     1\n",
       "140            Honley Rail Station                     1\n",
       "141      Huddersfield Rail Station                     1\n",
       "143       Hurst Green Rail Station                     1\n",
       "317   Yeovil Junction Rail Station                     1\n",
       "\n",
       "[318 rows x 2 columns]"
      ]
     },
     "execution_count": 21,
     "metadata": {},
     "output_type": "execute_result"
    }
   ],
   "source": [
    "result = pandas_df[pandas_df['is_delayed_departure'] == True].groupby('StationName')['is_delayed_departure'].count().reset_index()\n",
    "result = result.sort_values(by='is_delayed_departure', ascending=False)\n",
    "result"
   ]
  },
  {
   "cell_type": "code",
   "execution_count": 22,
   "id": "13aa75fb-9684-440b-b50e-f0982f475467",
   "metadata": {},
   "outputs": [
    {
     "name": "stdout",
     "output_type": "stream",
     "text": [
      "<class 'pandas.core.frame.DataFrame'>\n",
      "RangeIndex: 33004 entries, 0 to 33003\n",
      "Data columns (total 41 columns):\n",
      " #   Column                   Non-Null Count  Dtype         \n",
      "---  ------                   --------------  -----         \n",
      " 0   route_id                 33004 non-null  object        \n",
      " 1   unique_id                33004 non-null  object        \n",
      " 2   service_start_date       33004 non-null  object        \n",
      " 3   update_origin            33004 non-null  object        \n",
      " 4   train_platform           33004 non-null  object        \n",
      " 5   working_time_pass        0 non-null      datetime64[ns]\n",
      " 6   working_time_arrival     33004 non-null  datetime64[ns]\n",
      " 7   working_time_departure   33004 non-null  datetime64[ns]\n",
      " 8   planned_time_arrival     32952 non-null  datetime64[ns]\n",
      " 9   planned_time_departure   33004 non-null  datetime64[ns]\n",
      " 10  pass                     0 non-null      float64       \n",
      " 11  platform                 31690 non-null  object        \n",
      " 12  train_length             9601 non-null   object        \n",
      " 13  actual_arrival_time      28114 non-null  datetime64[ns]\n",
      " 14  actual_departure_time    30698 non-null  datetime64[ns]\n",
      " 15  is_delayed_arrival       33004 non-null  bool          \n",
      " 16  is_delayed_departure     33004 non-null  bool          \n",
      " 17  __index_level_0__        33004 non-null  int64         \n",
      " 18  AtcoCode                 32089 non-null  object        \n",
      " 19  TiplocCode               32089 non-null  object        \n",
      " 20  CrsCode                  32089 non-null  object        \n",
      " 21  StationName              33004 non-null  object        \n",
      " 22  StationNameLang          0 non-null      object        \n",
      " 23  GridType                 32069 non-null  object        \n",
      " 24  Easting                  32089 non-null  float64       \n",
      " 25  Northing                 32089 non-null  float64       \n",
      " 26  CreationDateTime         32089 non-null  datetime64[ns]\n",
      " 27  ModificationDateTime     32089 non-null  datetime64[ns]\n",
      " 28  RevisionNumber           32089 non-null  float64       \n",
      " 29  Modification             32089 non-null  object        \n",
      " 30  planned_arrival_date     32952 non-null  object        \n",
      " 31  planned_arrival_hour     32952 non-null  float64       \n",
      " 32  planned_dep_date         33004 non-null  object        \n",
      " 33  planned_dep_hour         33004 non-null  int32         \n",
      " 34  actual_arrival_date      28114 non-null  object        \n",
      " 35  actual_arrival_hour      28114 non-null  float64       \n",
      " 36  actual_dep_date          30698 non-null  object        \n",
      " 37  actual_dep_hour          30698 non-null  float64       \n",
      " 38  arrival_time_delayed_by  28114 non-null  float64       \n",
      " 39  dep_time_delayed_by      30698 non-null  float64       \n",
      " 40  day_of_week              30698 non-null  object        \n",
      "dtypes: bool(2), datetime64[ns](9), float64(9), int32(1), int64(1), object(19)\n",
      "memory usage: 9.8+ MB\n"
     ]
    }
   ],
   "source": [
    "pandas_df.info()"
   ]
  },
  {
   "cell_type": "code",
   "execution_count": 23,
   "id": "e4e4f4ee-9720-4c54-9f3a-d907410fd201",
   "metadata": {},
   "outputs": [
    {
     "data": {
      "text/html": [
       "<div>\n",
       "<style scoped>\n",
       "    .dataframe tbody tr th:only-of-type {\n",
       "        vertical-align: middle;\n",
       "    }\n",
       "\n",
       "    .dataframe tbody tr th {\n",
       "        vertical-align: top;\n",
       "    }\n",
       "\n",
       "    .dataframe thead th {\n",
       "        text-align: right;\n",
       "    }\n",
       "</style>\n",
       "<table border=\"1\" class=\"dataframe\">\n",
       "  <thead>\n",
       "    <tr style=\"text-align: right;\">\n",
       "      <th></th>\n",
       "      <th>route_id</th>\n",
       "      <th>unique_id</th>\n",
       "      <th>service_start_date</th>\n",
       "      <th>update_origin</th>\n",
       "      <th>train_platform</th>\n",
       "      <th>working_time_pass</th>\n",
       "      <th>working_time_arrival</th>\n",
       "      <th>working_time_departure</th>\n",
       "      <th>planned_time_arrival</th>\n",
       "      <th>planned_time_departure</th>\n",
       "      <th>...</th>\n",
       "      <th>planned_arrival_hour</th>\n",
       "      <th>planned_dep_date</th>\n",
       "      <th>planned_dep_hour</th>\n",
       "      <th>actual_arrival_date</th>\n",
       "      <th>actual_arrival_hour</th>\n",
       "      <th>actual_dep_date</th>\n",
       "      <th>actual_dep_hour</th>\n",
       "      <th>arrival_time_delayed_by</th>\n",
       "      <th>dep_time_delayed_by</th>\n",
       "      <th>day_of_week</th>\n",
       "    </tr>\n",
       "  </thead>\n",
       "  <tbody>\n",
       "    <tr>\n",
       "      <th>228</th>\n",
       "      <td>202307278100602</td>\n",
       "      <td>Q00602</td>\n",
       "      <td>2023-07-27</td>\n",
       "      <td>Darwin</td>\n",
       "      <td>RWLNDSC</td>\n",
       "      <td>NaT</td>\n",
       "      <td>2023-07-27 18:59:30</td>\n",
       "      <td>2023-07-27 19:00:00</td>\n",
       "      <td>2023-07-27 19:00:00</td>\n",
       "      <td>2023-07-27 19:00:00</td>\n",
       "      <td>...</td>\n",
       "      <td>19.0</td>\n",
       "      <td>2023-07-27</td>\n",
       "      <td>19</td>\n",
       "      <td>2023-07-27</td>\n",
       "      <td>19.0</td>\n",
       "      <td>2023-07-27</td>\n",
       "      <td>19.0</td>\n",
       "      <td>2.0</td>\n",
       "      <td>3.0</td>\n",
       "      <td>Thursday</td>\n",
       "    </tr>\n",
       "    <tr>\n",
       "      <th>229</th>\n",
       "      <td>202307278100602</td>\n",
       "      <td>Q00602</td>\n",
       "      <td>2023-07-27</td>\n",
       "      <td>Darwin</td>\n",
       "      <td>HAVANT</td>\n",
       "      <td>NaT</td>\n",
       "      <td>2023-07-27 19:04:30</td>\n",
       "      <td>2023-07-27 19:05:30</td>\n",
       "      <td>2023-07-27 19:05:00</td>\n",
       "      <td>2023-07-27 19:05:00</td>\n",
       "      <td>...</td>\n",
       "      <td>19.0</td>\n",
       "      <td>2023-07-27</td>\n",
       "      <td>19</td>\n",
       "      <td>2023-07-27</td>\n",
       "      <td>19.0</td>\n",
       "      <td>2023-07-27</td>\n",
       "      <td>19.0</td>\n",
       "      <td>2.0</td>\n",
       "      <td>3.0</td>\n",
       "      <td>Thursday</td>\n",
       "    </tr>\n",
       "    <tr>\n",
       "      <th>230</th>\n",
       "      <td>202307278100602</td>\n",
       "      <td>Q00602</td>\n",
       "      <td>2023-07-27</td>\n",
       "      <td>Darwin</td>\n",
       "      <td>BDHMPTN</td>\n",
       "      <td>NaT</td>\n",
       "      <td>2023-07-27 19:07:30</td>\n",
       "      <td>2023-07-27 19:08:30</td>\n",
       "      <td>2023-07-27 19:08:00</td>\n",
       "      <td>2023-07-27 19:08:00</td>\n",
       "      <td>...</td>\n",
       "      <td>19.0</td>\n",
       "      <td>2023-07-27</td>\n",
       "      <td>19</td>\n",
       "      <td>2023-07-27</td>\n",
       "      <td>19.0</td>\n",
       "      <td>2023-07-27</td>\n",
       "      <td>19.0</td>\n",
       "      <td>2.0</td>\n",
       "      <td>2.0</td>\n",
       "      <td>Thursday</td>\n",
       "    </tr>\n",
       "    <tr>\n",
       "      <th>231</th>\n",
       "      <td>202307278100602</td>\n",
       "      <td>Q00602</td>\n",
       "      <td>2023-07-27</td>\n",
       "      <td>Darwin</td>\n",
       "      <td>HILSEA</td>\n",
       "      <td>NaT</td>\n",
       "      <td>2023-07-27 19:13:00</td>\n",
       "      <td>2023-07-27 19:13:30</td>\n",
       "      <td>2023-07-27 19:13:00</td>\n",
       "      <td>2023-07-27 19:13:00</td>\n",
       "      <td>...</td>\n",
       "      <td>19.0</td>\n",
       "      <td>2023-07-27</td>\n",
       "      <td>19</td>\n",
       "      <td>2023-07-27</td>\n",
       "      <td>19.0</td>\n",
       "      <td>2023-07-27</td>\n",
       "      <td>19.0</td>\n",
       "      <td>2.0</td>\n",
       "      <td>2.0</td>\n",
       "      <td>Thursday</td>\n",
       "    </tr>\n",
       "    <tr>\n",
       "      <th>232</th>\n",
       "      <td>202307278100602</td>\n",
       "      <td>Q00602</td>\n",
       "      <td>2023-07-27</td>\n",
       "      <td>Darwin</td>\n",
       "      <td>FRATTON</td>\n",
       "      <td>NaT</td>\n",
       "      <td>2023-07-27 19:17:30</td>\n",
       "      <td>2023-07-27 19:19:00</td>\n",
       "      <td>2023-07-27 19:18:00</td>\n",
       "      <td>2023-07-27 19:19:00</td>\n",
       "      <td>...</td>\n",
       "      <td>19.0</td>\n",
       "      <td>2023-07-27</td>\n",
       "      <td>19</td>\n",
       "      <td>2023-07-27</td>\n",
       "      <td>19.0</td>\n",
       "      <td>2023-07-27</td>\n",
       "      <td>19.0</td>\n",
       "      <td>0.0</td>\n",
       "      <td>0.0</td>\n",
       "      <td>Thursday</td>\n",
       "    </tr>\n",
       "  </tbody>\n",
       "</table>\n",
       "<p>5 rows × 41 columns</p>\n",
       "</div>"
      ],
      "text/plain": [
       "            route_id unique_id service_start_date update_origin  \\\n",
       "228  202307278100602    Q00602         2023-07-27        Darwin   \n",
       "229  202307278100602    Q00602         2023-07-27        Darwin   \n",
       "230  202307278100602    Q00602         2023-07-27        Darwin   \n",
       "231  202307278100602    Q00602         2023-07-27        Darwin   \n",
       "232  202307278100602    Q00602         2023-07-27        Darwin   \n",
       "\n",
       "    train_platform working_time_pass working_time_arrival  \\\n",
       "228        RWLNDSC               NaT  2023-07-27 18:59:30   \n",
       "229         HAVANT               NaT  2023-07-27 19:04:30   \n",
       "230        BDHMPTN               NaT  2023-07-27 19:07:30   \n",
       "231         HILSEA               NaT  2023-07-27 19:13:00   \n",
       "232        FRATTON               NaT  2023-07-27 19:17:30   \n",
       "\n",
       "    working_time_departure planned_time_arrival planned_time_departure  ...  \\\n",
       "228    2023-07-27 19:00:00  2023-07-27 19:00:00    2023-07-27 19:00:00  ...   \n",
       "229    2023-07-27 19:05:30  2023-07-27 19:05:00    2023-07-27 19:05:00  ...   \n",
       "230    2023-07-27 19:08:30  2023-07-27 19:08:00    2023-07-27 19:08:00  ...   \n",
       "231    2023-07-27 19:13:30  2023-07-27 19:13:00    2023-07-27 19:13:00  ...   \n",
       "232    2023-07-27 19:19:00  2023-07-27 19:18:00    2023-07-27 19:19:00  ...   \n",
       "\n",
       "     planned_arrival_hour planned_dep_date planned_dep_hour  \\\n",
       "228                  19.0       2023-07-27               19   \n",
       "229                  19.0       2023-07-27               19   \n",
       "230                  19.0       2023-07-27               19   \n",
       "231                  19.0       2023-07-27               19   \n",
       "232                  19.0       2023-07-27               19   \n",
       "\n",
       "    actual_arrival_date actual_arrival_hour  actual_dep_date  actual_dep_hour  \\\n",
       "228          2023-07-27                19.0       2023-07-27             19.0   \n",
       "229          2023-07-27                19.0       2023-07-27             19.0   \n",
       "230          2023-07-27                19.0       2023-07-27             19.0   \n",
       "231          2023-07-27                19.0       2023-07-27             19.0   \n",
       "232          2023-07-27                19.0       2023-07-27             19.0   \n",
       "\n",
       "     arrival_time_delayed_by dep_time_delayed_by day_of_week  \n",
       "228                      2.0                 3.0    Thursday  \n",
       "229                      2.0                 3.0    Thursday  \n",
       "230                      2.0                 2.0    Thursday  \n",
       "231                      2.0                 2.0    Thursday  \n",
       "232                      0.0                 0.0    Thursday  \n",
       "\n",
       "[5 rows x 41 columns]"
      ]
     },
     "execution_count": 23,
     "metadata": {},
     "output_type": "execute_result"
    }
   ],
   "source": [
    "delayed_df = pandas_df[pandas_df['is_delayed_departure'] == True]\n",
    "delayed_df.head()"
   ]
  },
  {
   "cell_type": "code",
   "execution_count": 24,
   "id": "aa9427b2-3b42-46e8-b52b-cb790be8244d",
   "metadata": {},
   "outputs": [
    {
     "data": {
      "image/png": "[encoded data removed]",
      "text/plain": [
       "<Figure size 1000x600 with 1 Axes>"
      ]
     },
     "metadata": {},
     "output_type": "display_data"
    }
   ],
   "source": [
    "import seaborn as sns\n",
    "import matplotlib.pyplot as plt\n",
    "\n",
    "plt.figure(figsize=(10,6))\n",
    "sns.histplot(data=delayed_df, x='actual_dep_hour')\n",
    "plt.title('Count of Delayed Departure by hour of day')\n",
    "plt.xlabel('Actual Departure Hour')\n",
    "plt.ylabel('Count of Delays')\n",
    "plt.grid()\n",
    "plt.show()"
   ]
  },
  {
   "cell_type": "code",
   "execution_count": 25,
   "id": "5d65138b-e277-4247-865c-12ddb1c8d8c4",
   "metadata": {},
   "outputs": [
    {
     "data": {
      "image/png": "[encoded data removed]",
      "text/plain": [
       "<Figure size 1000x600 with 1 Axes>"
      ]
     },
     "metadata": {},
     "output_type": "display_data"
    }
   ],
   "source": [
    "import seaborn as sns\n",
    "import matplotlib.pyplot as plt\n",
    "\n",
    "plt.figure(figsize=(10,6))\n",
    "sns.histplot(data=delayed_df, x='actual_arrival_hour')\n",
    "plt.title('Count of Delayed Arrival by hour of day')\n",
    "plt.xlabel('Actual Arrival Hour')\n",
    "plt.ylabel('Count of Delays')\n",
    "plt.grid()\n",
    "plt.show()"
   ]
  },
  {
   "cell_type": "code",
   "execution_count": 26,
   "id": "8c88eedd-b992-4782-8b75-9b78adcc1775",
   "metadata": {},
   "outputs": [
    {
     "data": {
      "text/plain": [
       "is_delayed_departure\n",
       "False    32361\n",
       "True       643\n",
       "Name: count, dtype: int64"
      ]
     },
     "execution_count": 26,
     "metadata": {},
     "output_type": "execute_result"
    }
   ],
   "source": [
    "pandas_df['is_delayed_departure'].value_counts()"
   ]
  },
  {
   "cell_type": "code",
   "execution_count": 27,
   "id": "75566925-ee5c-4745-9b31-a4198577a21d",
   "metadata": {},
   "outputs": [
    {
     "data": {
      "text/plain": [
       "is_delayed_arrival\n",
       "False    32385\n",
       "True       619\n",
       "Name: count, dtype: int64"
      ]
     },
     "execution_count": 27,
     "metadata": {},
     "output_type": "execute_result"
    }
   ],
   "source": [
    "pandas_df['is_delayed_arrival'].value_counts()"
   ]
  },
  {
   "cell_type": "code",
   "execution_count": 28,
   "id": "403c5fd6-d495-46d0-b6bf-6519ce15695e",
   "metadata": {},
   "outputs": [
    {
     "data": {
      "text/plain": [
       "arrival_time_delayed_by\n",
       " 0.0       22123\n",
       " 1.0        1439\n",
       " 2.0        1199\n",
       " 3.0         669\n",
       " 4.0         415\n",
       "           ...  \n",
       "-1394.0        1\n",
       " 62.0          1\n",
       "-1439.0        1\n",
       "-1427.0        1\n",
       "-1383.0        1\n",
       "Name: count, Length: 104, dtype: int64"
      ]
     },
     "execution_count": 28,
     "metadata": {},
     "output_type": "execute_result"
    }
   ],
   "source": [
    "pandas_df['arrival_time_delayed_by'].value_counts()"
   ]
  },
  {
   "cell_type": "code",
   "execution_count": 29,
   "id": "89587514-2a9e-4653-9600-e922d563be7a",
   "metadata": {},
   "outputs": [
    {
     "data": {
      "text/plain": [
       "day_of_week  planned_dep_date\n",
       "Thursday     2023-07-27          602\n",
       "Friday       2023-07-28           41\n",
       "Name: count, dtype: int64"
      ]
     },
     "execution_count": 29,
     "metadata": {},
     "output_type": "execute_result"
    }
   ],
   "source": [
    "delayed_df[['day_of_week', 'planned_dep_date']].value_counts()"
   ]
  },
  {
   "cell_type": "code",
   "execution_count": 30,
   "id": "2fea86c7-e3fe-4009-84dd-aca6ead17dfc",
   "metadata": {},
   "outputs": [
    {
     "data": {
      "text/html": [
       "<div>\n",
       "<style scoped>\n",
       "    .dataframe tbody tr th:only-of-type {\n",
       "        vertical-align: middle;\n",
       "    }\n",
       "\n",
       "    .dataframe tbody tr th {\n",
       "        vertical-align: top;\n",
       "    }\n",
       "\n",
       "    .dataframe thead th {\n",
       "        text-align: right;\n",
       "    }\n",
       "</style>\n",
       "<table border=\"1\" class=\"dataframe\">\n",
       "  <thead>\n",
       "    <tr style=\"text-align: right;\">\n",
       "      <th></th>\n",
       "      <th>day_of_week</th>\n",
       "      <th>route_id</th>\n",
       "      <th>unique_id</th>\n",
       "      <th>service_start_date</th>\n",
       "      <th>update_origin</th>\n",
       "      <th>train_platform</th>\n",
       "      <th>working_time_pass</th>\n",
       "      <th>working_time_arrival</th>\n",
       "      <th>working_time_departure</th>\n",
       "      <th>planned_time_arrival</th>\n",
       "      <th>...</th>\n",
       "      <th>planned_arrival_date</th>\n",
       "      <th>planned_arrival_hour</th>\n",
       "      <th>planned_dep_date</th>\n",
       "      <th>planned_dep_hour</th>\n",
       "      <th>actual_arrival_date</th>\n",
       "      <th>actual_arrival_hour</th>\n",
       "      <th>actual_dep_date</th>\n",
       "      <th>actual_dep_hour</th>\n",
       "      <th>arrival_time_delayed_by</th>\n",
       "      <th>dep_time_delayed_by</th>\n",
       "    </tr>\n",
       "  </thead>\n",
       "  <tbody>\n",
       "    <tr>\n",
       "      <th>0</th>\n",
       "      <td>Friday</td>\n",
       "      <td>41</td>\n",
       "      <td>41</td>\n",
       "      <td>41</td>\n",
       "      <td>41</td>\n",
       "      <td>41</td>\n",
       "      <td>0</td>\n",
       "      <td>41</td>\n",
       "      <td>41</td>\n",
       "      <td>41</td>\n",
       "      <td>...</td>\n",
       "      <td>41</td>\n",
       "      <td>41</td>\n",
       "      <td>41</td>\n",
       "      <td>41</td>\n",
       "      <td>39</td>\n",
       "      <td>39</td>\n",
       "      <td>41</td>\n",
       "      <td>41</td>\n",
       "      <td>39</td>\n",
       "      <td>41</td>\n",
       "    </tr>\n",
       "    <tr>\n",
       "      <th>1</th>\n",
       "      <td>Thursday</td>\n",
       "      <td>602</td>\n",
       "      <td>602</td>\n",
       "      <td>602</td>\n",
       "      <td>602</td>\n",
       "      <td>602</td>\n",
       "      <td>0</td>\n",
       "      <td>602</td>\n",
       "      <td>602</td>\n",
       "      <td>590</td>\n",
       "      <td>...</td>\n",
       "      <td>590</td>\n",
       "      <td>590</td>\n",
       "      <td>602</td>\n",
       "      <td>602</td>\n",
       "      <td>571</td>\n",
       "      <td>571</td>\n",
       "      <td>602</td>\n",
       "      <td>602</td>\n",
       "      <td>571</td>\n",
       "      <td>602</td>\n",
       "    </tr>\n",
       "  </tbody>\n",
       "</table>\n",
       "<p>2 rows × 41 columns</p>\n",
       "</div>"
      ],
      "text/plain": [
       "  day_of_week  route_id  unique_id  service_start_date  update_origin  \\\n",
       "0      Friday        41         41                  41             41   \n",
       "1    Thursday       602        602                 602            602   \n",
       "\n",
       "   train_platform  working_time_pass  working_time_arrival  \\\n",
       "0              41                  0                    41   \n",
       "1             602                  0                   602   \n",
       "\n",
       "   working_time_departure  planned_time_arrival  ...  planned_arrival_date  \\\n",
       "0                      41                    41  ...                    41   \n",
       "1                     602                   590  ...                   590   \n",
       "\n",
       "   planned_arrival_hour  planned_dep_date  planned_dep_hour  \\\n",
       "0                    41                41                41   \n",
       "1                   590               602               602   \n",
       "\n",
       "   actual_arrival_date  actual_arrival_hour  actual_dep_date  actual_dep_hour  \\\n",
       "0                   39                   39               41               41   \n",
       "1                  571                  571              602              602   \n",
       "\n",
       "   arrival_time_delayed_by  dep_time_delayed_by  \n",
       "0                       39                   41  \n",
       "1                      571                  602  \n",
       "\n",
       "[2 rows x 41 columns]"
      ]
     },
     "execution_count": 30,
     "metadata": {},
     "output_type": "execute_result"
    }
   ],
   "source": [
    "weekday_df = delayed_df.groupby('day_of_week').count().reset_index()\n",
    "weekday_df"
   ]
  },
  {
   "cell_type": "code",
   "execution_count": 31,
   "id": "c1c17284-353b-4be9-ac0a-6acab39bf81e",
   "metadata": {},
   "outputs": [
    {
     "data": {
      "image/png": "[encoded data removed]",
      "text/plain": [
       "<Figure size 1000x600 with 1 Axes>"
      ]
     },
     "metadata": {},
     "output_type": "display_data"
    }
   ],
   "source": [
    "import seaborn as sns\n",
    "import matplotlib.pyplot as plt\n",
    "\n",
    "plt.figure(figsize=(10,6))\n",
    "sns.lineplot(data=weekday_df, x='day_of_week', y='route_id')\n",
    "plt.title('Delays by Day of Week')\n",
    "plt.xlabel('Day of Week')\n",
    "plt.ylabel('Count of Delays')\n",
    "plt.grid()\n",
    "plt.show()"
   ]
  },
  {
   "cell_type": "markdown",
   "id": "df6d994e-1eec-4e8b-8d9e-892e2d3e7bc6",
   "metadata": {},
   "source": [
    "## Logistic Regression\n",
    "predict if train will be delayed"
   ]
  },
  {
   "cell_type": "code",
   "execution_count": 35,
   "id": "d62fd892-eb0f-4094-9f99-c98b33d4d700",
   "metadata": {},
   "outputs": [],
   "source": [
    "from sklearn.model_selection import train_test_split\n",
    "import pandas as pd\n",
    "\n",
    "vars = pandas_df[['platform', 'planned_arrival_hour', 'planned_dep_hour', 'is_delayed_departure']].dropna()\n",
    "vars['is_delayed_departure'] = vars['is_delayed_departure'].astype('int')\n",
    "# df2 = pd.get_dummies(vars['train_platform'], dtype='float')\n",
    "# vars = pd.concat([vars, df2], axis=1)\n",
    "# vars = vars.drop('train_platform', axis=1)\n",
    "\n",
    "# X = Platform, train_platform, hour, day_of_week\n",
    "X = vars.drop('is_delayed_departure', axis=1)\n",
    "y = vars['is_delayed_departure']"
   ]
  },
  {
   "cell_type": "code",
   "execution_count": 36,
   "id": "bacbed0f-1044-412a-8df5-77f9fe72b0a5",
   "metadata": {},
   "outputs": [
    {
     "data": {
      "text/html": [
       "<div>\n",
       "<style scoped>\n",
       "    .dataframe tbody tr th:only-of-type {\n",
       "        vertical-align: middle;\n",
       "    }\n",
       "\n",
       "    .dataframe tbody tr th {\n",
       "        vertical-align: top;\n",
       "    }\n",
       "\n",
       "    .dataframe thead th {\n",
       "        text-align: right;\n",
       "    }\n",
       "</style>\n",
       "<table border=\"1\" class=\"dataframe\">\n",
       "  <thead>\n",
       "    <tr style=\"text-align: right;\">\n",
       "      <th></th>\n",
       "      <th>platform</th>\n",
       "      <th>planned_arrival_hour</th>\n",
       "      <th>planned_dep_hour</th>\n",
       "    </tr>\n",
       "  </thead>\n",
       "  <tbody>\n",
       "    <tr>\n",
       "      <th>12499</th>\n",
       "      <td>4</td>\n",
       "      <td>18.0</td>\n",
       "      <td>18</td>\n",
       "    </tr>\n",
       "    <tr>\n",
       "      <th>22788</th>\n",
       "      <td>3</td>\n",
       "      <td>0.0</td>\n",
       "      <td>0</td>\n",
       "    </tr>\n",
       "    <tr>\n",
       "      <th>3316</th>\n",
       "      <td>1</td>\n",
       "      <td>18.0</td>\n",
       "      <td>18</td>\n",
       "    </tr>\n",
       "    <tr>\n",
       "      <th>2376</th>\n",
       "      <td>1</td>\n",
       "      <td>21.0</td>\n",
       "      <td>21</td>\n",
       "    </tr>\n",
       "    <tr>\n",
       "      <th>17885</th>\n",
       "      <td>1</td>\n",
       "      <td>23.0</td>\n",
       "      <td>23</td>\n",
       "    </tr>\n",
       "    <tr>\n",
       "      <th>...</th>\n",
       "      <td>...</td>\n",
       "      <td>...</td>\n",
       "      <td>...</td>\n",
       "    </tr>\n",
       "    <tr>\n",
       "      <th>31065</th>\n",
       "      <td>1</td>\n",
       "      <td>21.0</td>\n",
       "      <td>21</td>\n",
       "    </tr>\n",
       "    <tr>\n",
       "      <th>5562</th>\n",
       "      <td>B</td>\n",
       "      <td>6.0</td>\n",
       "      <td>6</td>\n",
       "    </tr>\n",
       "    <tr>\n",
       "      <th>891</th>\n",
       "      <td>2</td>\n",
       "      <td>17.0</td>\n",
       "      <td>17</td>\n",
       "    </tr>\n",
       "    <tr>\n",
       "      <th>16384</th>\n",
       "      <td>2</td>\n",
       "      <td>15.0</td>\n",
       "      <td>15</td>\n",
       "    </tr>\n",
       "    <tr>\n",
       "      <th>24592</th>\n",
       "      <td>2</td>\n",
       "      <td>18.0</td>\n",
       "      <td>18</td>\n",
       "    </tr>\n",
       "  </tbody>\n",
       "</table>\n",
       "<p>25310 rows × 3 columns</p>\n",
       "</div>"
      ],
      "text/plain": [
       "      platform  planned_arrival_hour  planned_dep_hour\n",
       "12499        4                  18.0                18\n",
       "22788        3                   0.0                 0\n",
       "3316         1                  18.0                18\n",
       "2376         1                  21.0                21\n",
       "17885        1                  23.0                23\n",
       "...        ...                   ...               ...\n",
       "31065        1                  21.0                21\n",
       "5562         B                   6.0                 6\n",
       "891          2                  17.0                17\n",
       "16384        2                  15.0                15\n",
       "24592        2                  18.0                18\n",
       "\n",
       "[25310 rows x 3 columns]"
      ]
     },
     "execution_count": 36,
     "metadata": {},
     "output_type": "execute_result"
    }
   ],
   "source": [
    "X_train, X_test, y_train, y_test = train_test_split(X, y, test_size=0.2, random_state=42)\n",
    "X_train"
   ]
  },
  {
   "cell_type": "code",
   "execution_count": 37,
   "id": "475050f5-b164-4e96-923a-c6aef229040a",
   "metadata": {},
   "outputs": [
    {
     "ename": "ValueError",
     "evalue": "could not convert string to float: 'C'",
     "output_type": "error",
     "traceback": [
      "\u001b[0;31m---------------------------------------------------------------------------\u001b[0m",
      "\u001b[0;31mValueError\u001b[0m                                Traceback (most recent call last)",
      "\u001b[0;32m/tmp/ipykernel_9250/3777788993.py\u001b[0m in \u001b[0;36m?\u001b[0;34m()\u001b[0m\n\u001b[1;32m      1\u001b[0m \u001b[0;32mfrom\u001b[0m \u001b[0msklearn\u001b[0m\u001b[0;34m.\u001b[0m\u001b[0mlinear_model\u001b[0m \u001b[0;32mimport\u001b[0m \u001b[0mLogisticRegression\u001b[0m\u001b[0;34m\u001b[0m\u001b[0;34m\u001b[0m\u001b[0m\n\u001b[1;32m      2\u001b[0m \u001b[0;34m\u001b[0m\u001b[0m\n\u001b[1;32m      3\u001b[0m \u001b[0mmodel\u001b[0m \u001b[0;34m=\u001b[0m \u001b[0mLogisticRegression\u001b[0m\u001b[0;34m(\u001b[0m\u001b[0;34m)\u001b[0m\u001b[0;34m\u001b[0m\u001b[0;34m\u001b[0m\u001b[0m\n\u001b[0;32m----> 4\u001b[0;31m \u001b[0mmodel\u001b[0m\u001b[0;34m.\u001b[0m\u001b[0mfit\u001b[0m\u001b[0;34m(\u001b[0m\u001b[0mX_train\u001b[0m\u001b[0;34m,\u001b[0m \u001b[0my_train\u001b[0m\u001b[0;34m)\u001b[0m\u001b[0;34m\u001b[0m\u001b[0;34m\u001b[0m\u001b[0m\n\u001b[0m",
      "\u001b[0;32m/opt/conda/lib/python3.11/site-packages/sklearn/base.py\u001b[0m in \u001b[0;36m?\u001b[0;34m(estimator, *args, **kwargs)\u001b[0m\n\u001b[1;32m   1148\u001b[0m                 skip_parameter_validation=(\n\u001b[1;32m   1149\u001b[0m                     \u001b[0mprefer_skip_nested_validation\u001b[0m \u001b[0;32mor\u001b[0m \u001b[0mglobal_skip_validation\u001b[0m\u001b[0;34m\u001b[0m\u001b[0;34m\u001b[0m\u001b[0m\n\u001b[1;32m   1150\u001b[0m                 )\n\u001b[1;32m   1151\u001b[0m             ):\n\u001b[0;32m-> 1152\u001b[0;31m                 \u001b[0;32mreturn\u001b[0m \u001b[0mfit_method\u001b[0m\u001b[0;34m(\u001b[0m\u001b[0mestimator\u001b[0m\u001b[0;34m,\u001b[0m \u001b[0;34m*\u001b[0m\u001b[0margs\u001b[0m\u001b[0;34m,\u001b[0m \u001b[0;34m**\u001b[0m\u001b[0mkwargs\u001b[0m\u001b[0;34m)\u001b[0m\u001b[0;34m\u001b[0m\u001b[0;34m\u001b[0m\u001b[0m\n\u001b[0m",
      "\u001b[0;32m/opt/conda/lib/python3.11/site-packages/sklearn/linear_model/_logistic.py\u001b[0m in \u001b[0;36m?\u001b[0;34m(self, X, y, sample_weight)\u001b[0m\n\u001b[1;32m   1204\u001b[0m             \u001b[0m_dtype\u001b[0m \u001b[0;34m=\u001b[0m \u001b[0mnp\u001b[0m\u001b[0;34m.\u001b[0m\u001b[0mfloat64\u001b[0m\u001b[0;34m\u001b[0m\u001b[0;34m\u001b[0m\u001b[0m\n\u001b[1;32m   1205\u001b[0m         \u001b[0;32melse\u001b[0m\u001b[0;34m:\u001b[0m\u001b[0;34m\u001b[0m\u001b[0;34m\u001b[0m\u001b[0m\n\u001b[1;32m   1206\u001b[0m             \u001b[0m_dtype\u001b[0m \u001b[0;34m=\u001b[0m \u001b[0;34m[\u001b[0m\u001b[0mnp\u001b[0m\u001b[0;34m.\u001b[0m\u001b[0mfloat64\u001b[0m\u001b[0;34m,\u001b[0m \u001b[0mnp\u001b[0m\u001b[0;34m.\u001b[0m\u001b[0mfloat32\u001b[0m\u001b[0;34m]\u001b[0m\u001b[0;34m\u001b[0m\u001b[0;34m\u001b[0m\u001b[0m\n\u001b[1;32m   1207\u001b[0m \u001b[0;34m\u001b[0m\u001b[0m\n\u001b[0;32m-> 1208\u001b[0;31m         X, y = self._validate_data(\n\u001b[0m\u001b[1;32m   1209\u001b[0m             \u001b[0mX\u001b[0m\u001b[0;34m,\u001b[0m\u001b[0;34m\u001b[0m\u001b[0;34m\u001b[0m\u001b[0m\n\u001b[1;32m   1210\u001b[0m             \u001b[0my\u001b[0m\u001b[0;34m,\u001b[0m\u001b[0;34m\u001b[0m\u001b[0;34m\u001b[0m\u001b[0m\n\u001b[1;32m   1211\u001b[0m             \u001b[0maccept_sparse\u001b[0m\u001b[0;34m=\u001b[0m\u001b[0;34m\"csr\"\u001b[0m\u001b[0;34m,\u001b[0m\u001b[0;34m\u001b[0m\u001b[0;34m\u001b[0m\u001b[0m\n",
      "\u001b[0;32m/opt/conda/lib/python3.11/site-packages/sklearn/base.py\u001b[0m in \u001b[0;36m?\u001b[0;34m(self, X, y, reset, validate_separately, cast_to_ndarray, **check_params)\u001b[0m\n\u001b[1;32m    618\u001b[0m                 \u001b[0;32mif\u001b[0m \u001b[0;34m\"estimator\"\u001b[0m \u001b[0;32mnot\u001b[0m \u001b[0;32min\u001b[0m \u001b[0mcheck_y_params\u001b[0m\u001b[0;34m:\u001b[0m\u001b[0;34m\u001b[0m\u001b[0;34m\u001b[0m\u001b[0m\n\u001b[1;32m    619\u001b[0m                     \u001b[0mcheck_y_params\u001b[0m \u001b[0;34m=\u001b[0m \u001b[0;34m{\u001b[0m\u001b[0;34m**\u001b[0m\u001b[0mdefault_check_params\u001b[0m\u001b[0;34m,\u001b[0m \u001b[0;34m**\u001b[0m\u001b[0mcheck_y_params\u001b[0m\u001b[0;34m}\u001b[0m\u001b[0;34m\u001b[0m\u001b[0;34m\u001b[0m\u001b[0m\n\u001b[1;32m    620\u001b[0m                 \u001b[0my\u001b[0m \u001b[0;34m=\u001b[0m \u001b[0mcheck_array\u001b[0m\u001b[0;34m(\u001b[0m\u001b[0my\u001b[0m\u001b[0;34m,\u001b[0m \u001b[0minput_name\u001b[0m\u001b[0;34m=\u001b[0m\u001b[0;34m\"y\"\u001b[0m\u001b[0;34m,\u001b[0m \u001b[0;34m**\u001b[0m\u001b[0mcheck_y_params\u001b[0m\u001b[0;34m)\u001b[0m\u001b[0;34m\u001b[0m\u001b[0;34m\u001b[0m\u001b[0m\n\u001b[1;32m    621\u001b[0m             \u001b[0;32melse\u001b[0m\u001b[0;34m:\u001b[0m\u001b[0;34m\u001b[0m\u001b[0;34m\u001b[0m\u001b[0m\n\u001b[0;32m--> 622\u001b[0;31m                 \u001b[0mX\u001b[0m\u001b[0;34m,\u001b[0m \u001b[0my\u001b[0m \u001b[0;34m=\u001b[0m \u001b[0mcheck_X_y\u001b[0m\u001b[0;34m(\u001b[0m\u001b[0mX\u001b[0m\u001b[0;34m,\u001b[0m \u001b[0my\u001b[0m\u001b[0;34m,\u001b[0m \u001b[0;34m**\u001b[0m\u001b[0mcheck_params\u001b[0m\u001b[0;34m)\u001b[0m\u001b[0;34m\u001b[0m\u001b[0;34m\u001b[0m\u001b[0m\n\u001b[0m\u001b[1;32m    623\u001b[0m             \u001b[0mout\u001b[0m \u001b[0;34m=\u001b[0m \u001b[0mX\u001b[0m\u001b[0;34m,\u001b[0m \u001b[0my\u001b[0m\u001b[0;34m\u001b[0m\u001b[0;34m\u001b[0m\u001b[0m\n\u001b[1;32m    624\u001b[0m \u001b[0;34m\u001b[0m\u001b[0m\n\u001b[1;32m    625\u001b[0m         \u001b[0;32mif\u001b[0m \u001b[0;32mnot\u001b[0m \u001b[0mno_val_X\u001b[0m \u001b[0;32mand\u001b[0m \u001b[0mcheck_params\u001b[0m\u001b[0;34m.\u001b[0m\u001b[0mget\u001b[0m\u001b[0;34m(\u001b[0m\u001b[0;34m\"ensure_2d\"\u001b[0m\u001b[0;34m,\u001b[0m \u001b[0;32mTrue\u001b[0m\u001b[0;34m)\u001b[0m\u001b[0;34m:\u001b[0m\u001b[0;34m\u001b[0m\u001b[0;34m\u001b[0m\u001b[0m\n",
      "\u001b[0;32m/opt/conda/lib/python3.11/site-packages/sklearn/utils/validation.py\u001b[0m in \u001b[0;36m?\u001b[0;34m(X, y, accept_sparse, accept_large_sparse, dtype, order, copy, force_all_finite, ensure_2d, allow_nd, multi_output, ensure_min_samples, ensure_min_features, y_numeric, estimator)\u001b[0m\n\u001b[1;32m   1142\u001b[0m         raise ValueError(\n\u001b[1;32m   1143\u001b[0m             \u001b[0;34mf\"{estimator_name} requires y to be passed, but the target y is None\"\u001b[0m\u001b[0;34m\u001b[0m\u001b[0;34m\u001b[0m\u001b[0m\n\u001b[1;32m   1144\u001b[0m         )\n\u001b[1;32m   1145\u001b[0m \u001b[0;34m\u001b[0m\u001b[0m\n\u001b[0;32m-> 1146\u001b[0;31m     X = check_array(\n\u001b[0m\u001b[1;32m   1147\u001b[0m         \u001b[0mX\u001b[0m\u001b[0;34m,\u001b[0m\u001b[0;34m\u001b[0m\u001b[0;34m\u001b[0m\u001b[0m\n\u001b[1;32m   1148\u001b[0m         \u001b[0maccept_sparse\u001b[0m\u001b[0;34m=\u001b[0m\u001b[0maccept_sparse\u001b[0m\u001b[0;34m,\u001b[0m\u001b[0;34m\u001b[0m\u001b[0;34m\u001b[0m\u001b[0m\n\u001b[1;32m   1149\u001b[0m         \u001b[0maccept_large_sparse\u001b[0m\u001b[0;34m=\u001b[0m\u001b[0maccept_large_sparse\u001b[0m\u001b[0;34m,\u001b[0m\u001b[0;34m\u001b[0m\u001b[0;34m\u001b[0m\u001b[0m\n",
      "\u001b[0;32m/opt/conda/lib/python3.11/site-packages/sklearn/utils/validation.py\u001b[0m in \u001b[0;36m?\u001b[0;34m(array, accept_sparse, accept_large_sparse, dtype, order, copy, force_all_finite, ensure_2d, allow_nd, ensure_min_samples, ensure_min_features, estimator, input_name)\u001b[0m\n\u001b[1;32m    912\u001b[0m                         )\n\u001b[1;32m    913\u001b[0m                     \u001b[0marray\u001b[0m \u001b[0;34m=\u001b[0m \u001b[0mxp\u001b[0m\u001b[0;34m.\u001b[0m\u001b[0mastype\u001b[0m\u001b[0;34m(\u001b[0m\u001b[0marray\u001b[0m\u001b[0;34m,\u001b[0m \u001b[0mdtype\u001b[0m\u001b[0;34m,\u001b[0m \u001b[0mcopy\u001b[0m\u001b[0;34m=\u001b[0m\u001b[0;32mFalse\u001b[0m\u001b[0;34m)\u001b[0m\u001b[0;34m\u001b[0m\u001b[0;34m\u001b[0m\u001b[0m\n\u001b[1;32m    914\u001b[0m                 \u001b[0;32melse\u001b[0m\u001b[0;34m:\u001b[0m\u001b[0;34m\u001b[0m\u001b[0;34m\u001b[0m\u001b[0m\n\u001b[1;32m    915\u001b[0m                     \u001b[0marray\u001b[0m \u001b[0;34m=\u001b[0m \u001b[0m_asarray_with_order\u001b[0m\u001b[0;34m(\u001b[0m\u001b[0marray\u001b[0m\u001b[0;34m,\u001b[0m \u001b[0morder\u001b[0m\u001b[0;34m=\u001b[0m\u001b[0morder\u001b[0m\u001b[0;34m,\u001b[0m \u001b[0mdtype\u001b[0m\u001b[0;34m=\u001b[0m\u001b[0mdtype\u001b[0m\u001b[0;34m,\u001b[0m \u001b[0mxp\u001b[0m\u001b[0;34m=\u001b[0m\u001b[0mxp\u001b[0m\u001b[0;34m)\u001b[0m\u001b[0;34m\u001b[0m\u001b[0;34m\u001b[0m\u001b[0m\n\u001b[0;32m--> 916\u001b[0;31m             \u001b[0;32mexcept\u001b[0m \u001b[0mComplexWarning\u001b[0m \u001b[0;32mas\u001b[0m \u001b[0mcomplex_warning\u001b[0m\u001b[0;34m:\u001b[0m\u001b[0;34m\u001b[0m\u001b[0;34m\u001b[0m\u001b[0m\n\u001b[0m\u001b[1;32m    917\u001b[0m                 raise ValueError(\n\u001b[1;32m    918\u001b[0m                     \u001b[0;34m\"Complex data not supported\\n{}\\n\"\u001b[0m\u001b[0;34m.\u001b[0m\u001b[0mformat\u001b[0m\u001b[0;34m(\u001b[0m\u001b[0marray\u001b[0m\u001b[0;34m)\u001b[0m\u001b[0;34m\u001b[0m\u001b[0;34m\u001b[0m\u001b[0m\n\u001b[1;32m    919\u001b[0m                 ) from complex_warning\n",
      "\u001b[0;32m/opt/conda/lib/python3.11/site-packages/sklearn/utils/_array_api.py\u001b[0m in \u001b[0;36m?\u001b[0;34m(array, dtype, order, copy, xp)\u001b[0m\n\u001b[1;32m    376\u001b[0m         \u001b[0;31m# Use NumPy API to support order\u001b[0m\u001b[0;34m\u001b[0m\u001b[0;34m\u001b[0m\u001b[0m\n\u001b[1;32m    377\u001b[0m         \u001b[0;32mif\u001b[0m \u001b[0mcopy\u001b[0m \u001b[0;32mis\u001b[0m \u001b[0;32mTrue\u001b[0m\u001b[0;34m:\u001b[0m\u001b[0;34m\u001b[0m\u001b[0;34m\u001b[0m\u001b[0m\n\u001b[1;32m    378\u001b[0m             \u001b[0marray\u001b[0m \u001b[0;34m=\u001b[0m \u001b[0mnumpy\u001b[0m\u001b[0;34m.\u001b[0m\u001b[0marray\u001b[0m\u001b[0;34m(\u001b[0m\u001b[0marray\u001b[0m\u001b[0;34m,\u001b[0m \u001b[0morder\u001b[0m\u001b[0;34m=\u001b[0m\u001b[0morder\u001b[0m\u001b[0;34m,\u001b[0m \u001b[0mdtype\u001b[0m\u001b[0;34m=\u001b[0m\u001b[0mdtype\u001b[0m\u001b[0;34m)\u001b[0m\u001b[0;34m\u001b[0m\u001b[0;34m\u001b[0m\u001b[0m\n\u001b[1;32m    379\u001b[0m         \u001b[0;32melse\u001b[0m\u001b[0;34m:\u001b[0m\u001b[0;34m\u001b[0m\u001b[0;34m\u001b[0m\u001b[0m\n\u001b[0;32m--> 380\u001b[0;31m             \u001b[0marray\u001b[0m \u001b[0;34m=\u001b[0m \u001b[0mnumpy\u001b[0m\u001b[0;34m.\u001b[0m\u001b[0masarray\u001b[0m\u001b[0;34m(\u001b[0m\u001b[0marray\u001b[0m\u001b[0;34m,\u001b[0m \u001b[0morder\u001b[0m\u001b[0;34m=\u001b[0m\u001b[0morder\u001b[0m\u001b[0;34m,\u001b[0m \u001b[0mdtype\u001b[0m\u001b[0;34m=\u001b[0m\u001b[0mdtype\u001b[0m\u001b[0;34m)\u001b[0m\u001b[0;34m\u001b[0m\u001b[0;34m\u001b[0m\u001b[0m\n\u001b[0m\u001b[1;32m    381\u001b[0m \u001b[0;34m\u001b[0m\u001b[0m\n\u001b[1;32m    382\u001b[0m         \u001b[0;31m# At this point array is a NumPy ndarray. We convert it to an array\u001b[0m\u001b[0;34m\u001b[0m\u001b[0;34m\u001b[0m\u001b[0m\n\u001b[1;32m    383\u001b[0m         \u001b[0;31m# container that is consistent with the input's namespace.\u001b[0m\u001b[0;34m\u001b[0m\u001b[0;34m\u001b[0m\u001b[0m\n",
      "\u001b[0;32m/opt/conda/lib/python3.11/site-packages/pandas/core/generic.py\u001b[0m in \u001b[0;36m?\u001b[0;34m(self, dtype)\u001b[0m\n\u001b[1;32m   1996\u001b[0m     \u001b[0;32mdef\u001b[0m \u001b[0m__array__\u001b[0m\u001b[0;34m(\u001b[0m\u001b[0mself\u001b[0m\u001b[0;34m,\u001b[0m \u001b[0mdtype\u001b[0m\u001b[0;34m:\u001b[0m \u001b[0mnpt\u001b[0m\u001b[0;34m.\u001b[0m\u001b[0mDTypeLike\u001b[0m \u001b[0;34m|\u001b[0m \u001b[0;32mNone\u001b[0m \u001b[0;34m=\u001b[0m \u001b[0;32mNone\u001b[0m\u001b[0;34m)\u001b[0m \u001b[0;34m->\u001b[0m \u001b[0mnp\u001b[0m\u001b[0;34m.\u001b[0m\u001b[0mndarray\u001b[0m\u001b[0;34m:\u001b[0m\u001b[0;34m\u001b[0m\u001b[0;34m\u001b[0m\u001b[0m\n\u001b[1;32m   1997\u001b[0m         \u001b[0mvalues\u001b[0m \u001b[0;34m=\u001b[0m \u001b[0mself\u001b[0m\u001b[0;34m.\u001b[0m\u001b[0m_values\u001b[0m\u001b[0;34m\u001b[0m\u001b[0;34m\u001b[0m\u001b[0m\n\u001b[0;32m-> 1998\u001b[0;31m         \u001b[0marr\u001b[0m \u001b[0;34m=\u001b[0m \u001b[0mnp\u001b[0m\u001b[0;34m.\u001b[0m\u001b[0masarray\u001b[0m\u001b[0;34m(\u001b[0m\u001b[0mvalues\u001b[0m\u001b[0;34m,\u001b[0m \u001b[0mdtype\u001b[0m\u001b[0;34m=\u001b[0m\u001b[0mdtype\u001b[0m\u001b[0;34m)\u001b[0m\u001b[0;34m\u001b[0m\u001b[0;34m\u001b[0m\u001b[0m\n\u001b[0m\u001b[1;32m   1999\u001b[0m         if (\n\u001b[1;32m   2000\u001b[0m             \u001b[0mastype_is_view\u001b[0m\u001b[0;34m(\u001b[0m\u001b[0mvalues\u001b[0m\u001b[0;34m.\u001b[0m\u001b[0mdtype\u001b[0m\u001b[0;34m,\u001b[0m \u001b[0marr\u001b[0m\u001b[0;34m.\u001b[0m\u001b[0mdtype\u001b[0m\u001b[0;34m)\u001b[0m\u001b[0;34m\u001b[0m\u001b[0;34m\u001b[0m\u001b[0m\n\u001b[1;32m   2001\u001b[0m             \u001b[0;32mand\u001b[0m \u001b[0musing_copy_on_write\u001b[0m\u001b[0;34m(\u001b[0m\u001b[0;34m)\u001b[0m\u001b[0;34m\u001b[0m\u001b[0;34m\u001b[0m\u001b[0m\n",
      "\u001b[0;31mValueError\u001b[0m: could not convert string to float: 'C'"
     ]
    }
   ],
   "source": [
    "from sklearn.linear_model import LogisticRegression\n",
    "\n",
    "model = LogisticRegression()\n",
    "model.fit(X_train, y_train)"
   ]
  },
  {
   "cell_type": "code",
   "execution_count": null,
   "id": "e61e0bf6-9473-4d04-9fae-8404c9d8bc1d",
   "metadata": {},
   "outputs": [],
   "source": [
    "from sklearn import accuracy_score\n",
    "\n",
    "y_pred = model.predict(y_test)\n",
    "accuracy_score(y_test, y_pred)"
   ]
  },
  {
   "cell_type": "code",
   "execution_count": null,
   "id": "a857cfdc-229e-41c5-8aba-3681c6bb231b",
   "metadata": {},
   "outputs": [],
   "source": []
  },
  {
   "cell_type": "code",
   "execution_count": null,
   "id": "999d7d27-c3cd-410f-890f-c3b4fa5d508e",
   "metadata": {},
   "outputs": [],
   "source": []
  }
 ],
 "metadata": {
  "kernelspec": {
   "display_name": "Python 3 (ipykernel)",
   "language": "python",
   "name": "python3"
  },
  "language_info": {
   "codemirror_mode": {
    "name": "ipython",
    "version": 3
   },
   "file_extension": ".py",
   "mimetype": "text/x-python",
   "name": "python",
   "nbconvert_exporter": "python",
   "pygments_lexer": "ipython3",
   "version": "3.11.6"
  }
 },
 "nbformat": 4,
 "nbformat_minor": 5
}
